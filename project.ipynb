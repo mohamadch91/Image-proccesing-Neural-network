{
 "cells": [
  {
   "cell_type": "markdown",
   "metadata": {
    "id": "E1RKefqKpUtY"
   },
   "source": [
    "### import library\n",
    " implement CNN nueral network \n"
   ]
  },
  {
   "cell_type": "code",
   "execution_count": 2,
   "metadata": {
    "id": "cQ-hdEr2l5yD"
   },
   "outputs": [],
   "source": [
    "import numpy as np\n",
    "import random\n",
    "import pickle\n",
    "import matplotlib.pyplot as plt\n",
    "from datetime import datetime"
   ]
  },
  {
   "cell_type": "code",
   "execution_count": 3,
   "metadata": {
    "colab": {
     "base_uri": "https://localhost:8080/"
    },
    "id": "kpIchvdTmJue",
    "outputId": "486a2190-5ad7-430b-e2af-162d5e149050"
   },
   "outputs": [
    {
     "name": "stdout",
     "output_type": "stream",
     "text": [
      "1962\n",
      "662\n"
     ]
    }
   ],
   "source": [
    "# loading training set features\n",
    "start_time = datetime.now()\n",
    "f = open(\"Datasets/train_set_features.pkl\", \"rb\")\n",
    "train_set_features2 = pickle.load(f)\n",
    "f.close()\n",
    "\n",
    "# reducing feature vector length \n",
    "features_STDs = np.std(a=train_set_features2, axis=0)\n",
    "train_set_features = train_set_features2[:, features_STDs > 52.3]\n",
    "\n",
    "# changing the range of data between 0 and 1\n",
    "train_set_features = np.divide(train_set_features, train_set_features.max())\n",
    "\n",
    "# loading training set labels\n",
    "f = open(\"Datasets/train_set_labels.pkl\", \"rb\")\n",
    "train_set_labels = pickle.load(f)\n",
    "f.close()\n",
    "\n",
    "# ------------\n",
    "# loading test set features\n",
    "f = open(\"Datasets/test_set_features.pkl\", \"rb\")\n",
    "test_set_features2 = pickle.load(f)\n",
    "f.close()\n",
    "\n",
    "# reducing feature vector length \n",
    "features_STDs = np.std(a=test_set_features2, axis=0)\n",
    "test_set_features = test_set_features2[:, features_STDs > 48]\n",
    "\n",
    "# changing the range of data between 0 and 1\n",
    "test_set_features = np.divide(test_set_features, test_set_features.max())\n",
    "\n",
    "# loading test set labels\n",
    "f = open(\"Datasets/test_set_labels.pkl\", \"rb\")\n",
    "test_set_labels = pickle.load(f)\n",
    "f.close()\n",
    "\n",
    "# ------------\n",
    "# preparing our training and test sets - joining datasets and lables\n",
    "train_set = []\n",
    "test_set = []\n",
    "\n",
    "for i in range(len(train_set_features)):\n",
    "    label = np.array([0,0,0,0])\n",
    "    label[int(train_set_labels[i])] = 1\n",
    "    label = label.reshape(4,1)\n",
    "    train_set.append((train_set_features[i].reshape(102,1), label))\n",
    "    \n",
    "\n",
    "for i in range(len(test_set_features)):\n",
    "    label = np.array([0,0,0,0])\n",
    "    label[int(test_set_labels[i])] = 1\n",
    "    label = label.reshape(4,1)\n",
    "    test_set.append((test_set_features[i].reshape(102,1), label))\n",
    "\n",
    "# shuffle\n",
    "random.shuffle(train_set)\n",
    "random.shuffle(test_set)\n",
    "\n",
    "# print size\n",
    "print(len(train_set)) #1962\n",
    "print(len(test_set)) #662\n"
   ]
  },
  {
   "cell_type": "markdown",
   "metadata": {
    "id": "d2bgAP1mpk0U"
   },
   "source": [
    "### Part 1\n",
    "feed forward"
   ]
  },
  {
   "cell_type": "code",
   "execution_count": 4,
   "metadata": {
    "id": "RfUzwPEjAcLP"
   },
   "outputs": [],
   "source": [
    "minimize_train_set=train_set[:200]"
   ]
  },
  {
   "cell_type": "code",
   "execution_count": 6,
   "metadata": {
    "colab": {
     "base_uri": "https://localhost:8080/"
    },
    "id": "sKUu4eermp2s",
    "outputId": "417f3721-b7bb-4ca1-a4c2-15b88dcb1c3e"
   },
   "outputs": [
    {
     "name": "stdout",
     "output_type": "stream",
     "text": [
      "Accuracy is : 0.22\n"
     ]
    }
   ],
   "source": [
    "def sigmoid(x):\n",
    "    ans=1/(1+np.exp(-x))\n",
    "    return ans\n",
    "def result(x,w,b):\n",
    "    return np.dot(w,x)+b\n",
    "\n",
    "np.random.seed(1)\n",
    "n_x=102\n",
    "n_h_1=150\n",
    "n_h_2=60\n",
    "n_y=4\n",
    "#intialize the layers here\n",
    "W1 = np.random.normal(size=(n_h_1,n_x)) \n",
    "b1 = np.zeros((n_h_1,1))\n",
    "W2 = np.random.normal(size=(n_h_2,n_h_1)) \n",
    "b2 = np.zeros((n_h_2,1))\n",
    "W3 = np.random.normal(size=(n_y,n_h_2)) \n",
    "b3 = np.zeros((n_y,1))\n",
    "counter=0\n",
    "for i in range(len(minimize_train_set)):\n",
    "      reshape_train=minimize_train_set[i][0]\n",
    "      reshape_train_label=minimize_train_set[i][1]\n",
    "      S0 = reshape_train\n",
    "      S1 = sigmoid(W1 @ S0 + b1)\n",
    "      S2 = sigmoid(W2 @ S1 + b2)\n",
    "      S3 = sigmoid(W3 @ S2 + b3)\n",
    "      index = np.where(S3 == np.amax(S3))\n",
    "      max_index = np.where(reshape_train_label == np.amax(reshape_train_label))\n",
    "      if index == max_index:\n",
    "          counter += 1\n",
    "print(\"Accuracy is : \" +str(counter / 200))\n",
    "\n"
   ]
  },
  {
   "cell_type": "markdown",
   "metadata": {
    "id": "C4qgAgmqrs0d"
   },
   "source": [
    "###part 2\n",
    "back propagation"
   ]
  },
  {
   "cell_type": "code",
   "execution_count": 8,
   "metadata": {
    "colab": {
     "base_uri": "https://localhost:8080/",
     "height": 469
    },
    "id": "lOKWm_4wcZdF",
    "outputId": "f0bbbff4-9215-40d6-8d95-115ac35b409e"
   },
   "outputs": [
    {
     "name": "stdout",
     "output_type": "stream",
     "text": [
      "epoch_count  1\n",
      "cost of this epoch is 203.958212513823\n",
      "epoch_count  2\n",
      "cost of this epoch is 141.01624137709538\n",
      "epoch_count  3\n",
      "cost of this epoch is 121.97756158660673\n",
      "epoch_count  4\n",
      "cost of this epoch is 104.49859509118949\n",
      "epoch_count  5\n",
      "cost of this epoch is 99.39138058844959\n",
      "average cost : 3.3542099557858207\n"
     ]
    },
    {
     "data": {
      "text/plain": [
       "[<matplotlib.lines.Line2D at 0x7f8a11b4bd10>]"
      ]
     },
     "execution_count": 8,
     "metadata": {},
     "output_type": "execute_result"
    },
    {
     "data": {
      "image/png": "[encoded data removed]",
      "text/plain": [
       "<Figure size 432x288 with 1 Axes>"
      ]
     },
     "metadata": {
      "needs_background": "light"
     },
     "output_type": "display_data"
    }
   ],
   "source": [
    "def sigmoid(x):\n",
    "    ans=1/(1+np.exp(-x))\n",
    "    return ans\n",
    "def result(x,w,b):\n",
    "    return np.dot(w,x)+b\n",
    "np.random.seed(1)\n",
    "epoch=5\n",
    "batch_size=10\n",
    "batch_num=int(200/10)\n",
    "learning_rate=0.3\n",
    "np.random.seed(1)\n",
    "n_x=102\n",
    "n_h_1=150\n",
    "n_h_2=60\n",
    "n_y=4\n",
    "#intialize the layers here\n",
    "W1 = np.random.randn(n_h_1,n_x) \n",
    "b1 = np.zeros((n_h_1,1))\n",
    "W2 = np.random.randn(n_h_2,n_h_1)\n",
    "b2 = np.zeros((n_h_2,1))\n",
    "W3 = np.random.randn(n_y,n_h_2) \n",
    "b3 = np.zeros((n_y,1))\n",
    "costs=[]\n",
    "for epoch_count in range(epoch):\n",
    "  #shuffle\n",
    "  total_cost=0\n",
    "  print(\"epoch_count  \"+str(epoch_count+1))\n",
    "  random.shuffle(train_set)\n",
    "  minimize_train_set=train_set[:200]\n",
    "  for batch_count in range(batch_size):\n",
    "    # print(\"batch count \"+str(batch_count+1))\n",
    "    grad_W1 = np.zeros((n_h_1,n_x))\n",
    "    grad_W2 = np.zeros((n_h_2,n_h_1))\n",
    "    grad_W3 = np.zeros((n_y,n_h_2))\n",
    "    grad_b1 = np.zeros((n_h_1,1))\n",
    "    grad_b2 = np.zeros((n_h_2,1))\n",
    "    grad_b3 = np.zeros((n_y,1)) \n",
    "    for i in range(batch_num):\n",
    "      # print(\"mini batch num is \"+str(i+1)) \n",
    "      reshape_train=minimize_train_set[batch_count*20+i][0]\n",
    "      reshape_train_lables=minimize_train_set[batch_count*20+i][1]\n",
    "      S0 = reshape_train\n",
    "      S1 = sigmoid(W1 @ S0 + b1)\n",
    "      S2 = sigmoid(W2 @ S1 + b2)\n",
    "      S3 = sigmoid(W3 @ S2 + b3)\n",
    "      temp_cost=0\n",
    "      for s in range(len(S3)):\n",
    "        temp_cost+=pow(S3[s][0]-reshape_train_lables[s][0],2)\n",
    "      total_cost+=temp_cost\n",
    "      for j in range(grad_W3.shape[0]):\n",
    "          for k in range(grad_W3.shape[1]):\n",
    "              grad_W3[j, k] += 2 * (S3[j, 0] - reshape_train_lables[j, 0]) * S3[j, 0] * (1 - S3[j, 0]) * S2[k, 0]\n",
    "             # print(grad_W3)\n",
    "      # bias\n",
    "      for j in range(grad_b3.shape[0]):\n",
    "              grad_b3[j, 0] += 2 * (S3[j, 0] - reshape_train_lables[j, 0]) * S3[j, 0] * (1 - S3[j, 0])\n",
    "      \n",
    "      # ---- 3rd layer\n",
    "      # activation\n",
    "      delta_3 = np.zeros((n_h_2, 1))\n",
    "      for k in range(n_h_2):\n",
    "          for j in range(n_y):\n",
    "              delta_3[k, 0] += 2 * (S3[j, 0] - reshape_train_lables[j, 0]) * S3[j, 0] * (1 - S3[j, 0]) * W3[j, k]\n",
    "      \n",
    "      # weight\n",
    "      for k in range(grad_W2.shape[0]):\n",
    "          for m in range(grad_W2.shape[1]):\n",
    "              grad_W2[k, m] += delta_3[k, 0] * S2[k,0] * (1 - S2[k, 0]) * S1[m, 0]\n",
    "      \n",
    "      # bias\n",
    "      for k in range(grad_b2.shape[0]):\n",
    "              grad_b2[k, 0] += delta_3[k, 0] * S2[k, 0] * (1 - S2[k, 0])\n",
    "              \n",
    "      # ---- 2nd layer\n",
    "      # activation\n",
    "      delta_2 = np.zeros((n_h_1, 1))\n",
    "      for m in range(n_h_1):\n",
    "          for k in range(n_h_2):\n",
    "              delta_2[m, 0] += delta_3[k, 0] * S2[k][0] * (1 - S2[k, 0]) * W2[k, m]\n",
    "      # weight\n",
    "      for m in range(grad_W1.shape[0]):\n",
    "          for v in range(grad_W1.shape[1]):\n",
    "              grad_W1[m, v] += delta_2[m, 0] * S1[m,0] * (1 - S1[m, 0]) * reshape_train[v,0]\n",
    "              \n",
    "      # bias\n",
    "      for m in range(grad_b1.shape[0]):\n",
    "              grad_b1[m, 0] += delta_2[m, 0] * S1[m, 0] * (1 - S1[m, 0])\n",
    "             \n",
    "    W3 = W3 - (learning_rate * (grad_W3 / batch_size))\n",
    "    W2 = W2 - (learning_rate * (grad_W2 / batch_size))\n",
    "    W1 = W1 - (learning_rate * (grad_W1 / batch_size))\n",
    "    b3 = b3 - (learning_rate * (grad_b3 / batch_size))\n",
    "    b2 = b2 - (learning_rate * (grad_b2 / batch_size))\n",
    "    b1 = b1 - (learning_rate * (grad_b1 / batch_size))\n",
    "    \n",
    "  costs.append(total_cost/200)\n",
    "  print(\"cost of this epoch is \"+str(total_cost))\n",
    "  \n",
    "print(\"average cost : \"+str(sum(costs)))\n",
    "epoch_list=[c+1 for c in range(epoch)]\n",
    "plt.plot(epoch_list,costs)  \n",
    "\n"
   ]
  },
  {
   "cell_type": "code",
   "execution_count": 9,
   "metadata": {
    "colab": {
     "base_uri": "https://localhost:8080/"
    },
    "id": "uSOi1afrda7Z",
    "outputId": "54d51547-4997-491e-f5d6-bafb0cfd5161"
   },
   "outputs": [
    {
     "name": "stdout",
     "output_type": "stream",
     "text": [
      "Accuracy is : 0.71\n"
     ]
    }
   ],
   "source": [
    "counter=0\n",
    "for i in range(len(minimize_train_set)):\n",
    "      reshape_train=minimize_train_set[i][0]\n",
    "      reshape_train_label=minimize_train_set[i][1]\n",
    "      S0 = reshape_train\n",
    "      S1 = sigmoid(W1 @ S0 + b1)\n",
    "      S2 = sigmoid(W2 @ S1 + b2)\n",
    "      S3 = sigmoid(W3 @ S2 + b3)\n",
    "      index = np.where(S3 == np.amax(S3))\n",
    "      max_index = np.where(reshape_train_label == np.amax(reshape_train_label))\n",
    "      if index == max_index:\n",
    "          counter += 1\n",
    "print(\"Accuracy is : \" +str(counter / 200))\n",
    "       \n",
    "  "
   ]
  },
  {
   "cell_type": "markdown",
   "metadata": {
    "id": "WZfr1T5QpSzf"
   },
   "source": [
    "##part 3\n",
    "back propagation with vectorization calculation\n"
   ]
  },
  {
   "cell_type": "code",
   "execution_count": 14,
   "metadata": {
    "colab": {
     "base_uri": "https://localhost:8080/",
     "height": 452
    },
    "id": "WiF5vlDrtbdy",
    "outputId": "0e6387fe-eb59-4c6a-9f19-b5cb0feee986"
   },
   "outputs": [
    {
     "name": "stdout",
     "output_type": "stream",
     "text": [
      "epoch_count  1\n",
      "cost of this epoch is 165.56591264121252\n",
      "epoch_count  2\n",
      "cost of this epoch is 145.6879275614967\n",
      "epoch_count  3\n",
      "cost of this epoch is 110.27513270906329\n",
      "epoch_count  4\n",
      "cost of this epoch is 96.8153364462998\n",
      "epoch_count  5\n",
      "cost of this epoch is 91.20994440087725\n",
      "average cost : 3.0477712687947474\n"
     ]
    },
    {
     "data": {
      "image/png": "[encoded data removed]",
      "text/plain": [
       "<Figure size 432x288 with 1 Axes>"
      ]
     },
     "metadata": {
      "needs_background": "light"
     },
     "output_type": "display_data"
    }
   ],
   "source": [
    "def sigmoid(x):\n",
    "    ans=1/(1+np.exp(-x))\n",
    "    return ans\n",
    "def result(x,w,b):\n",
    "    return np.dot(w,x)+b\n",
    "np.random.seed(1)\n",
    "epoch=5\n",
    "batch_size=10\n",
    "batch_num=int(200/10)\n",
    "learning_rate=0.3\n",
    "np.random.seed(1)\n",
    "n_x=102\n",
    "n_h_1=150\n",
    "n_h_2=60\n",
    "n_y=4\n",
    "#intialize the layers here\n",
    "W1 = np.random.randn(n_h_1,n_x) \n",
    "b1 = np.zeros((n_h_1,1))\n",
    "W2 = np.random.randn(n_h_2,n_h_1)\n",
    "b2 = np.zeros((n_h_2,1))\n",
    "W3 = np.random.randn(n_y,n_h_2) \n",
    "b3 = np.zeros((n_y,1))\n",
    "costs=[]\n",
    "for epoch_count in range(epoch):\n",
    "  #shuffle\n",
    "  total_cost=0\n",
    "  print(\"epoch_count  \"+str(epoch_count+1))\n",
    "  random.shuffle(train_set)\n",
    "  minimize_train_set=train_set[:200]\n",
    "  for batch_count in range(batch_size):\n",
    "    # print(\"batch count \"+str(batch_count+1))\n",
    "    grad_W1 = np.zeros((n_h_1,n_x))\n",
    "    grad_W2 = np.zeros((n_h_2,n_h_1))\n",
    "    grad_W3 = np.zeros((n_y,n_h_2))\n",
    "    grad_b1 = np.zeros((n_h_1,1))\n",
    "    grad_b2 = np.zeros((n_h_2,1))\n",
    "    grad_b3 = np.zeros((n_y,1)) \n",
    "    for i in range(batch_num):\n",
    "      # print(\"mini batch num is \"+str(i+1)) \n",
    "      reshape_train=minimize_train_set[batch_count*20+i][0]\n",
    "      reshape_train_lables=minimize_train_set[batch_count*20+i][1]\n",
    "      S0 = reshape_train\n",
    "      S1 = sigmoid(W1 @ S0 + b1)\n",
    "      S2 = sigmoid(W2 @ S1 + b2)\n",
    "      S3 = sigmoid(W3 @ S2 + b3)\n",
    "      temp_cost=0\n",
    "      for s in range(len(S3)):\n",
    "        temp_cost+=pow(S3[s][0]-reshape_train_lables[s][0],2)\n",
    "      total_cost+=temp_cost\n",
    "      \n",
    "      grad_W3 += (2 * (S3 - reshape_train_lables) * S3 * (1 - S3)) @ np.transpose(S2)\n",
    "      \n",
    "      # bias\n",
    "      grad_b3 += 2 * (S3 - reshape_train_lables) * S3 * (1 - S3)\n",
    "      \n",
    "      # ---- 3rd layer\n",
    "      # activation\n",
    "      delta_3 = np.zeros((n_h_2, 1))\n",
    "      delta_3 += np.transpose(W3) @ (2 *(S3 - reshape_train_lables) * (S3 * (1 - S3)))\n",
    "      \n",
    "      # weight\n",
    "      grad_W2 += (S2 * (1 - S2) * delta_3) @ np.transpose(S1)\n",
    "      \n",
    "      # bias\n",
    "      grad_b2 += delta_3 * S2 * (1 - S2)\n",
    "              \n",
    "      # ---- 2nd layer\n",
    "      # activation\n",
    "      delta_2 = np.zeros((n_h_1, 1))\n",
    "      delta_2 += np.transpose(W2) @ (delta_3 * S2 * (1 - S2))\n",
    "      \n",
    "      # weight\n",
    "      grad_W1 += (delta_2 * S1 * (1 - S1)) @ np.transpose(reshape_train)\n",
    "              \n",
    "      # bias\n",
    "      grad_b1 += delta_2 * S1 * (1 - S1)\n",
    "       \n",
    "      W3 = W3 - (learning_rate * (grad_W3 / batch_size))\n",
    "      W2 = W2 - (learning_rate * (grad_W2 / batch_size))\n",
    "      W1 = W1 - (learning_rate * (grad_W1 / batch_size))\n",
    "      b3 = b3 - (learning_rate * (grad_b3 / batch_size))\n",
    "      b2 = b2 - (learning_rate * (grad_b2 / batch_size))\n",
    "      b1 = b1 - (learning_rate * (grad_b1 / batch_size))\n",
    "      \n",
    "  costs.append(total_cost/200)\n",
    "  print(\"cost of this epoch is \"+str(total_cost))\n",
    "print(\"average cost : \"+str(sum(costs)))\n",
    "epoch_list=[c+1 for c in range(epoch)]\n",
    "plt.plot(epoch_list,costs)  \n",
    "out=[]\n"
   ]
  },
  {
   "cell_type": "code",
   "execution_count": 15,
   "metadata": {
    "colab": {
     "base_uri": "https://localhost:8080/"
    },
    "id": "qg2INtRxs5K6",
    "outputId": "a813f754-d726-471c-817c-8e1ada21790d"
   },
   "outputs": [
    {
     "name": "stdout",
     "output_type": "stream",
     "text": [
      "Accuracy is : 0.535\n"
     ]
    }
   ],
   "source": [
    "counter=0\n",
    "for i in range(len(minimize_train_set)):\n",
    "      reshape_train=minimize_train_set[i][0]\n",
    "      reshape_train_label=minimize_train_set[i][1]\n",
    "      S0 = reshape_train\n",
    "      S1 = sigmoid(W1 @ S0 + b1)\n",
    "      S2 = sigmoid(W2 @ S1 + b2)\n",
    "      S3 = sigmoid(W3 @ S2 + b3)\n",
    "      index = np.where(S3 == np.amax(S3))\n",
    "      max_index = np.where(reshape_train_label == np.amax(reshape_train_label))\n",
    "      if index == max_index:\n",
    "          counter += 1\n",
    "print(\"Accuracy is : \" +str(counter / 200))\n",
    "       \n",
    "  "
   ]
  },
  {
   "cell_type": "markdown",
   "metadata": {
    "id": "MlgvxhP1053B"
   },
   "source": [
    "##last part\n",
    "Train all data and test\n"
   ]
  },
  {
   "cell_type": "code",
   "execution_count": 16,
   "metadata": {
    "colab": {
     "base_uri": "https://localhost:8080/",
     "height": 554
    },
    "id": "oEsjS90u07QG",
    "outputId": "981518e3-45ad-42c0-bff4-4709055e7768"
   },
   "outputs": [
    {
     "name": "stdout",
     "output_type": "stream",
     "text": [
      "cost of this epoch is 1383.17046432571\n",
      "cost of this epoch is 996.4927654447861\n",
      "cost of this epoch is 272.9019968857882\n",
      "cost of this epoch is 27.53836175198836\n",
      "cost of this epoch is 16.9654779702614\n",
      "cost of this epoch is 10.037618990746699\n",
      "cost of this epoch is 8.451446083467726\n",
      "cost of this epoch is 5.50684959225349\n",
      "cost of this epoch is 4.699432223902113\n",
      "cost of this epoch is 4.081507254015726\n",
      "average cost epochs : 1.3913587770249336\n",
      "average cost all of epoch : 0.05437874526239719\n"
     ]
    },
    {
     "data": {
      "image/png": "[encoded data removed]",
      "text/plain": [
       "<Figure size 432x288 with 1 Axes>"
      ]
     },
     "metadata": {
      "needs_background": "light"
     },
     "output_type": "display_data"
    },
    {
     "name": "stdout",
     "output_type": "stream",
     "text": [
      "Accuracy is : 1.0\n",
      "Accuracy is for real values  : 1.0\n",
      "cost of this time  10.012869095898644\n",
      "average cost : 0.015125179903170157\n",
      "Duration: 0:06:41.687862\n"
     ]
    }
   ],
   "source": [
    "minimize_train_set = train_set[:1962]\n",
    "\n",
    "\n",
    "def sigmoid(x):\n",
    "    ans = 1 / (1 + np.exp(-x))\n",
    "    return ans\n",
    "\n",
    "\n",
    "np.random.seed(1)\n",
    "epoch = 10\n",
    "batch_size = 10\n",
    "batch_num = int(1962 / 10)\n",
    "learning_rate = 0.004\n",
    "np.random.seed(1)\n",
    "n_x = 102\n",
    "n_h_1 = 150\n",
    "n_h_2 = 60\n",
    "n_y = 4\n",
    "# intialize the layers here\n",
    "W1 = np.random.randn(n_h_1, n_x)\n",
    "b1 = np.zeros((n_h_1, 1))\n",
    "W2 = np.random.randn(n_h_2, n_h_1)\n",
    "b2 = np.zeros((n_h_2, 1))\n",
    "W3 = np.random.randn(n_y, n_h_2)\n",
    "b3 = np.zeros((n_y, 1))\n",
    "costs1 = []\n",
    "costs2 = []\n",
    "for epoch_count in range(epoch):\n",
    "    # shuffle\n",
    "    total_cost = 0\n",
    "    # print(\"epoch_count  \" + str(epoch_count + 1))\n",
    "    random.shuffle(train_set)\n",
    "    minimize_train_set = train_set[:1962]\n",
    "    for batch_count in range(batch_size):\n",
    "        # print(\"batch count \" + str(batch_count + 1))\n",
    "        grad_W1 = np.zeros((n_h_1, n_x))\n",
    "        grad_W2 = np.zeros((n_h_2, n_h_1))\n",
    "        grad_W3 = np.zeros((n_y, n_h_2))\n",
    "        grad_b1 = np.zeros((n_h_1, 1))\n",
    "        grad_b2 = np.zeros((n_h_2, 1))\n",
    "        grad_b3 = np.zeros((n_y, 1))\n",
    "        for i in range(batch_num):\n",
    "            # print(\"mini batch num is \" + str(i + 1))\n",
    "            reshape_train = minimize_train_set[batch_count * 196 + i][0]\n",
    "            reshape_train_lables = minimize_train_set[batch_count * 196 + i][1]\n",
    "            S1 = sigmoid(W1 @ reshape_train + b1)\n",
    "            S2 = sigmoid(W2 @ S1 + b2)\n",
    "            S3 = sigmoid(W3 @ S2 + b3)\n",
    "            temp_cost = 0\n",
    "            for s in range(len(S3)):\n",
    "                temp_cost += pow(S3[s][0] - reshape_train_lables[s][0], 2)\n",
    "            total_cost += temp_cost\n",
    "\n",
    "            grad_W3 += (2 * (S3 - reshape_train_lables) * S3 * (1 - S3)) @ np.transpose(S2)\n",
    "\n",
    "            # bias\n",
    "            grad_b3 += 2 * (S3 - reshape_train_lables) * S3 * (1 - S3)\n",
    "\n",
    "            # ---- 3rd layer\n",
    "            # activation\n",
    "            delta_3 = np.zeros((n_h_2, 1))\n",
    "            delta_3 += np.transpose(W3) @ (2 * (S3 - reshape_train_lables) * (S3 * (1 - S3)))\n",
    "\n",
    "            # weight\n",
    "            grad_W2 += (S2 * (1 - S2) * delta_3) @ np.transpose(S1)\n",
    "\n",
    "            # bias\n",
    "            grad_b2 += delta_3 * S2 * (1 - S2)\n",
    "\n",
    "            # ---- 2nd layer\n",
    "            # activation\n",
    "            delta_2 = np.zeros((n_h_1, 1))\n",
    "            delta_2 += np.transpose(W2) @ (delta_3 * S2 * (1 - S2))\n",
    "\n",
    "            # weight\n",
    "            grad_W1 += (delta_2 * S1 * (1 - S1)) @ np.transpose(reshape_train)\n",
    "\n",
    "            # bias\n",
    "            grad_b1 += delta_2 * S1 * (1 - S1)\n",
    "\n",
    "            W3 = W3 - (learning_rate * (grad_W3 / batch_size))\n",
    "            W2 = W2 - (learning_rate * (grad_W2 / batch_size))\n",
    "            W1 = W1 - (learning_rate * (grad_W1 / batch_size))\n",
    "            b3 = b3 - (learning_rate * (grad_b3 / batch_size))\n",
    "            b2 = b2 - (learning_rate * (grad_b2 / batch_size))\n",
    "            b1 = b1 - (learning_rate * (grad_b1 / batch_size))\n",
    "    cost = 0\n",
    "    for train_data in train_set[:100]:\n",
    "        S0 = train_data[0]\n",
    "        S1 = sigmoid(W1 @ S0 + b1)\n",
    "        S2 = sigmoid(W2 @ S1 + b2)\n",
    "        S3 = sigmoid(W3 @ S2 + b3)\n",
    "        for j in range(4):\n",
    "            cost += np.power((S3[j, 0] - train_data[1][j, 0]), 2)\n",
    "    costs1.append(total_cost / 1962)\n",
    "    costs2.append(cost / 1962)\n",
    "    print(\"cost of this epoch is \" + str(total_cost))\n",
    "print(\"average cost epochs : \" + str(sum(costs1)))\n",
    "print(\"average cost all of epoch : \" + str(sum(costs2)))\n",
    "epoch_list = [c + 1 for c in range(epoch)]\n",
    "\n",
    "plt.plot(epoch_list, costs1)\n",
    "plt.plot(epoch_list, costs2)\n",
    "\n",
    "plt.show()\n",
    "counter = 0\n",
    "for i in range(len(minimize_train_set)):\n",
    "    reshape_train = minimize_train_set[i][0]\n",
    "    reshape_train_label = minimize_train_set[i][1]\n",
    "    S0 = reshape_train\n",
    "    S1 = sigmoid(W1 @ S0 + b1)\n",
    "    S2 = sigmoid(W2 @ S1 + b2)\n",
    "    S3 = sigmoid(W3 @ S2 + b3)\n",
    "    index = np.where(S3 == np.amax(S3))\n",
    "    max_index = np.where(reshape_train_label == np.amax(reshape_train_label))\n",
    "    if index == max_index:\n",
    "        counter += 1\n",
    "print(\"Accuracy is : \" + str(counter / 1962))\n",
    "\n",
    "##real values\n",
    "total_cost = 0\n",
    "counter = 0\n",
    "costs = []\n",
    "for i in range(len(test_set)):\n",
    "    reshape_test = test_set[i][0]\n",
    "    reshape_test_label = test_set[i][1]\n",
    "    S0 = reshape_test\n",
    "    S1 = sigmoid(W1 @ S0 + b1)\n",
    "    S2 = sigmoid(W2 @ S1 + b2)\n",
    "    S3 = sigmoid(W3 @ S2 + b3)\n",
    "    temp_cost = 0\n",
    "    for s in range(len(S3)):\n",
    "        temp_cost += pow(S3[s][0] - reshape_test_label[s][0], 2)\n",
    "    total_cost += temp_cost\n",
    "\n",
    "    index = np.where(S3 == np.amax(S3))\n",
    "    max_index = np.where(reshape_test_label == np.amax(reshape_test_label))\n",
    "    if index == max_index:\n",
    "        counter += 1\n",
    "print(\"Accuracy is for real values  : \" + str(counter / 662))\n",
    "costs.append(total_cost / 662)\n",
    "print(\"cost of this time  \" + str(total_cost))\n",
    "print(\"average cost : \" + str(sum(costs)))\n",
    "end_time = datetime.now()\n",
    "print('Duration: {}'.format(end_time - start_time))\n"
   ]
  }
 ],
 "metadata": {
  "colab": {
   "collapsed_sections": [],
   "name": "p1.ipynb",
   "provenance": []
  },
  "kernelspec": {
   "display_name": "Python 3",
   "language": "python",
   "name": "python3"
  },
  "language_info": {
   "codemirror_mode": {
    "name": "ipython",
    "version": 3
   },
   "file_extension": ".py",
   "mimetype": "text/x-python",
   "name": "python",
   "nbconvert_exporter": "python",
   "pygments_lexer": "ipython3",
   "version": "3.9.2"
  }
 },
 "nbformat": 4,
 "nbformat_minor": 1
}
